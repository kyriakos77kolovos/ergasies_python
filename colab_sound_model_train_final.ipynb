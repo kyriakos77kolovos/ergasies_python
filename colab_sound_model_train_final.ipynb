{
  "cells": [
    {
      "cell_type": "markdown",
      "metadata": {
        "id": "view-in-github",
        "colab_type": "text"
      },
      "source": [
        "<a href=\"https://colab.research.google.com/github/kyriakos77kolovos/ergasies_python/blob/master/colab_sound_model_train_final.ipynb\" target=\"_parent\"><img src=\"https://colab.research.google.com/assets/colab-badge.svg\" alt=\"Open In Colab\"/></a>"
      ]
    },
    {
      "cell_type": "code",
      "execution_count": null,
      "metadata": {
        "id": "c3c2e1d7"
      },
      "outputs": [],
      "source": [
        "import pathlib\n",
        "import numpy as np\n",
        "from time import time\n",
        "\n",
        "from warnings import filterwarnings\n",
        "\n",
        "from os import listdir\n",
        "from os.path import splitext, basename, join\n",
        "\n",
        "from librosa import load, stft, magphase, amplitude_to_db\n",
        "from librosa.feature import melspectrogram\n",
        "\n",
        "from keras.utils import np_utils\n",
        "from keras.layers import BatchNormalization\n",
        "from tensorflow.python.ops.math_ops import reduce_mean\n",
        "from tensorflow.python.keras.layers import Input, LSTM, Dense, Dropout, Flatten, Conv2D, MaxPooling2D\n",
        "from tensorflow.python.keras.models import Model, Sequential\n",
        "from tensorflow.python.keras.callbacks import ModelCheckpoint, EarlyStopping\n",
        "from sklearn.preprocessing import LabelEncoder\n",
        "from sklearn.model_selection import train_test_split\n",
        "\n",
        "filterwarnings(\"ignore\")"
      ],
      "id": "c3c2e1d7"
    },
    {
      "cell_type": "code",
      "execution_count": null,
      "metadata": {
        "id": "qajVuQj2OdkV"
      },
      "outputs": [],
      "source": [
        "from google.colab import drive\n",
        "drive.mount('/content/drive')"
      ],
      "id": "qajVuQj2OdkV"
    },
    {
      "cell_type": "code",
      "execution_count": null,
      "metadata": {
        "id": "pbOVMKv4vwYF"
      },
      "outputs": [],
      "source": [
        "import tensorflow as tf\n",
        "\n",
        "tf.test.gpu_device_name()"
      ],
      "id": "pbOVMKv4vwYF"
    },
    {
      "cell_type": "code",
      "execution_count": null,
      "metadata": {
        "id": "j1_W_U4_PzbF"
      },
      "outputs": [],
      "source": [
        "# Global variables\n",
        "SAMPLE_RATE = 16000\n",
        "PATH_TO_SAVE_MODELS = \"/content/drive/MyDrive/ASR/ASR_Project-main/TrainedDataSet/\"\n",
        "WINDOWS_LENGTH = 0.5\n",
        "# HOP_LENGTH = round(WINDOWS_LENGTH * SAMPLE_RATE)\n",
        "HOP_LENGTH = 512"
      ],
      "id": "j1_W_U4_PzbF"
    },
    {
      "cell_type": "code",
      "execution_count": null,
      "metadata": {
        "id": "GnSOIZVjPUqd"
      },
      "outputs": [],
      "source": [
        "def showMelSpectrogram(digit):\n",
        "    \"\"\"\n",
        "    :param digits: list of digits/digit\n",
        "    :return: list of mel spectrogram/mel spectrogram\n",
        "    \"\"\"\n",
        "\n",
        "    spectrogram = stft(digit)\n",
        "    spectrogram_mag, _ = magphase(spectrogram)\n",
        "\n",
        "    mel_spectrogram = melspectrogram(S=spectrogram_mag, sr=SAMPLE_RATE)\n",
        "    mel_spectrogram = amplitude_to_db(mel_spectrogram, ref=np.min)\n",
        "\n",
        "    return mel_spectrogram"
      ],
      "id": "GnSOIZVjPUqd"
    },
    {
      "cell_type": "code",
      "execution_count": null,
      "metadata": {
        "id": "223fbe01"
      },
      "outputs": [],
      "source": [
        "trained_data_path = \"/content/drive/MyDrive/ASR/ASR_Project-main/TrainedDataSet/audio/\"\n",
        "data_dir = pathlib.Path(trained_data_path)\n",
        "numbers_labels = np.array(listdir(str(data_dir)))\n",
        "numbers_labels = numbers_labels[numbers_labels != '_background_noise_']\n",
        "numbers_labels = numbers_labels[numbers_labels != '.DS_Store']\n",
        "print(numbers_labels)"
      ],
      "id": "223fbe01"
    },
    {
      "cell_type": "code",
      "execution_count": null,
      "metadata": {
        "id": "3ea488ea"
      },
      "outputs": [],
      "source": [
        "all_labels, trained_samples = [], []\n",
        "zero, one, two, three, four, five, six, seven, eight, nine = [], [], [], [], [], [], [], [], [], []\n",
        "for number_label in numbers_labels:\n",
        "    label_path = join(data_dir, number_label)\n",
        "    for file in listdir(label_path):\n",
        "\n",
        "        signal_sample, samples_rate = load(pathlib.Path(str(join(label_path, file))), sr=SAMPLE_RATE)\n",
        "        \n",
        "        if len(signal_sample) == SAMPLE_RATE:\n",
        "            spectrogram = stft(signal_sample)\n",
        "            spectrogram_mag, _ = magphase(spectrogram)\n",
        "\n",
        "            mel_spectrogram = melspectrogram(S=spectrogram_mag, sr=SAMPLE_RATE)\n",
        "            mel_spectrogram = amplitude_to_db(mel_spectrogram, ref=np.min)\n",
        "\n",
        "            if number_label == \"zero\":\n",
        "                zero.append(mel_spectrogram)\n",
        "            elif number_label == \"one\":\n",
        "                one.append(mel_spectrogram)\n",
        "            elif number_label == \"two\":\n",
        "                two.append(mel_spectrogram)\n",
        "            elif number_label == \"three\":\n",
        "                three.append(mel_spectrogram)\n",
        "            elif number_label == \"four\":\n",
        "                four.append(mel_spectrogram)\n",
        "            elif number_label == \"five\":\n",
        "                five.append(mel_spectrogram)\n",
        "            elif number_label == \"six\":\n",
        "                six.append(mel_spectrogram)\n",
        "            elif number_label == \"seven\":\n",
        "                seven.append(mel_spectrogram)\n",
        "            elif number_label == \"eight\":\n",
        "                eight.append(mel_spectrogram)\n",
        "            elif number_label == \"nine\":\n",
        "                nine.append(mel_spectrogram)\n",
        "                      \n",
        "            trained_samples.append(mel_spectrogram)\n",
        "            all_labels.append(number_label)"
      ],
      "id": "3ea488ea"
    },
    {
      "cell_type": "code",
      "execution_count": null,
      "metadata": {
        "id": "goD2XsnvRIKk"
      },
      "outputs": [],
      "source": [
        "meaned_zero = np.mean(zero, axis=2)\n",
        "meaned_one = np.mean(one, axis=2)\n",
        "meaned_two = np.mean(two, axis=2)\n",
        "meaned_three = np.mean(three, axis=2)\n",
        "meaned_four = np.mean(four, axis=2)\n",
        "meaned_five = np.mean(five, axis=2)\n",
        "meaned_six = np.mean(six, axis=2)\n",
        "meaned_seven = np.mean(seven, axis=2)\n",
        "meaned_eight = np.mean(eight, axis=2)\n",
        "meaned_nine = np.mean(nine, axis=2)"
      ],
      "id": "goD2XsnvRIKk"
    },
    {
      "cell_type": "code",
      "execution_count": null,
      "metadata": {
        "id": "isfwEesSBOiX"
      },
      "outputs": [],
      "source": [
        "trained_mean_data = []"
      ],
      "id": "isfwEesSBOiX"
    },
    {
      "cell_type": "code",
      "execution_count": null,
      "metadata": {
        "id": "iRMUTMFJFP7y"
      },
      "outputs": [],
      "source": [
        "trained_mean_data.extend(meaned_zero)\n",
        "trained_mean_data.extend(meaned_one)\n",
        "trained_mean_data.extend(meaned_two)\n",
        "trained_mean_data.extend(meaned_three)\n",
        "trained_mean_data.extend(meaned_four)\n",
        "trained_mean_data.extend(meaned_five)\n",
        "trained_mean_data.extend(meaned_six)\n",
        "trained_mean_data.extend(meaned_seven)\n",
        "trained_mean_data.extend(meaned_eight)\n",
        "trained_mean_data.extend(meaned_nine)"
      ],
      "id": "iRMUTMFJFP7y"
    },
    {
      "cell_type": "code",
      "execution_count": null,
      "metadata": {
        "id": "CF9HMLkSGDIB"
      },
      "outputs": [],
      "source": [
        "all_labels = np.array(all_labels)\n",
        "trained_mean_data = np.array(trained_mean_data).reshape(-1, 128, 1)\n",
        "\n",
        "print(all_labels.shape)\n",
        "print(trained_mean_data.shape)"
      ],
      "id": "CF9HMLkSGDIB"
    },
    {
      "cell_type": "code",
      "execution_count": null,
      "metadata": {
        "id": "4530f8be"
      },
      "outputs": [],
      "source": [
        "label_encoder = LabelEncoder()\n",
        "y = label_encoder.fit_transform(all_labels)\n",
        "classes_count = len(list(label_encoder.classes_))\n",
        "y = np_utils.to_categorical(y, num_classes=classes_count, dtype='float32')"
      ],
      "id": "4530f8be"
    },
    {
      "cell_type": "code",
      "execution_count": null,
      "metadata": {
        "id": "c2vUtcaT09NR"
      },
      "outputs": [],
      "source": [
        "# saving labelEncoder\n",
        "import pickle \n",
        "path = \"/content/drive/MyDrive/ASR/ASR_Project-main/TrainedDataSet/labelEncoderModel1.sav\"\n",
        "pickle.dump(label_encoder, open(path, 'wb'))"
      ],
      "id": "c2vUtcaT09NR"
    },
    {
      "cell_type": "code",
      "execution_count": null,
      "metadata": {
        "id": "4daa73a1"
      },
      "outputs": [],
      "source": [
        "x_train, x_test, y_train, y_test = train_test_split(trained_mean_data,\n",
        "                                                    np.array(y),\n",
        "                                                    stratify=y,\n",
        "                                                    test_size=0.2,\n",
        "                                                    shuffle=True)\n",
        "\n",
        "x_train, x_val, y_train, y_val = train_test_split(x_train, y_train,\n",
        "                                                  test_size=0.2)\n",
        "\n",
        "x_train = np.array(x_train)\n",
        "x_test = np.array(x_test)\n",
        "x_val = np.array(x_val)\n",
        "y_train = np.array(y_train)\n",
        "y_test = np.array(y_test)\n",
        "y_val = np.array(y_val)"
      ],
      "id": "4daa73a1"
    },
    {
      "cell_type": "code",
      "execution_count": null,
      "metadata": {
        "id": "ac0c0a6f"
      },
      "outputs": [],
      "source": [
        "print(np.array(x_train).shape)\n",
        "print(np.array(y_train).shape)\n",
        "print(np.array(x_test).shape)\n",
        "print(np.array(y_test).shape)\n",
        "print(np.array(x_val).shape)\n",
        "print(np.array(y_val).shape)"
      ],
      "id": "ac0c0a6f"
    },
    {
      "cell_type": "code",
      "execution_count": null,
      "metadata": {
        "id": "hF1K-IbvK0Z1"
      },
      "outputs": [],
      "source": [
        "input_shape = x_train.shape[1]\n",
        "\n",
        "model = Sequential()\n",
        "\n",
        "# Adding Layers\n",
        "# 1st LSTM layer\n",
        "model.add(LSTM(64, input_shape=(x_train.shape[1], x_train.shape[2]), return_sequences=True))\n",
        "# 2nd LSTM layer\n",
        "model.add(LSTM(64))\n",
        "\n",
        "# 1st Dense layer\n",
        "model.add(Dense(64, activation='relu'))\n",
        "model.add(Dropout(0.3))\n",
        "\n",
        "# Outputs\n",
        "model.add(Dense(classes_count, activation='softmax'))"
      ],
      "id": "hF1K-IbvK0Z1"
    },
    {
      "cell_type": "code",
      "execution_count": null,
      "metadata": {
        "id": "mCWcTHuHX6uP"
      },
      "outputs": [],
      "source": [
        "model.compile(optimizer='adam',\n",
        "              loss='categorical_crossentropy', \n",
        "              metrics=['accuracy'])"
      ],
      "id": "mCWcTHuHX6uP"
    },
    {
      "cell_type": "code",
      "execution_count": null,
      "metadata": {
        "id": "KXzZySz_Od8_"
      },
      "outputs": [],
      "source": [
        "model.summary()"
      ],
      "id": "KXzZySz_Od8_"
    },
    {
      "cell_type": "code",
      "execution_count": null,
      "metadata": {
        "id": "d9d87a25"
      },
      "outputs": [],
      "source": [
        "es = EarlyStopping(monitor='val_loss', \n",
        "                   mode='min', \n",
        "                   patience=6, \n",
        "                   min_delta=0.0001)\n",
        "\n",
        "mc = ModelCheckpoint('best_model.hdf5', \n",
        "                     monitor='val_acc',\n",
        "                     save_best_only=True, \n",
        "                     mode='max')"
      ],
      "id": "d9d87a25"
    },
    {
      "cell_type": "code",
      "execution_count": null,
      "metadata": {
        "id": "d5546a2b"
      },
      "outputs": [],
      "source": [
        "model_history = model.fit(x_train, y_train, \n",
        "                          validation_data=(x_val, y_val), \n",
        "                          epochs=50, callbacks=[es, mc],\n",
        "                          batch_size = 32)"
      ],
      "id": "d5546a2b"
    },
    {
      "cell_type": "code",
      "execution_count": null,
      "metadata": {
        "id": "OBNOLJ4cj3dv"
      },
      "outputs": [],
      "source": [
        "# SAving model \n",
        "filename = pathlib.Path(join(PATH_TO_SAVE_MODELS, 'mean_model.h5'))\n",
        "model.save(filename)"
      ],
      "id": "OBNOLJ4cj3dv"
    },
    {
      "cell_type": "code",
      "execution_count": null,
      "metadata": {
        "id": "WMDMe_FXleE6"
      },
      "outputs": [],
      "source": [
        "history_dict = model_history.history\n",
        "loss_values = history_dict['loss']\n",
        "acc_values = history_dict['accuracy']\n",
        "val_loss_values = history_dict['val_loss']\n",
        "val_acc_values=history_dict['val_accuracy']"
      ],
      "id": "WMDMe_FXleE6"
    },
    {
      "cell_type": "code",
      "execution_count": null,
      "metadata": {
        "id": "05XbPZjP46b-"
      },
      "outputs": [],
      "source": [
        "# Save history\n",
        "import pickle \n",
        "from pandas import DataFrame\n",
        "\n",
        "history_df = DataFrame(history_dict)\n",
        "filename = pathlib.Path(join(PATH_TO_SAVE_MODELS, 'history_mean_model1.csv'))\n",
        "with open(filename, 'w') as f:\n",
        "    history_df.to_csv(f)"
      ],
      "id": "05XbPZjP46b-"
    },
    {
      "cell_type": "code",
      "execution_count": null,
      "metadata": {
        "id": "rsYPVPXukKT1"
      },
      "outputs": [],
      "source": [
        "import matplotlib.pyplot as plt\n",
        "\n",
        "epochs=range(1,len(loss_values) + 1)\n",
        "fig,(ax1,ax2)=plt.subplots(1,2,figsize=(15,5))\n",
        "ax1.plot(epochs,loss_values,'co',label='Training Loss')\n",
        "ax1.plot(epochs,val_loss_values,'m', label='Validation Loss')\n",
        "ax1.set_title('Training and validation loss')\n",
        "ax1.set_xlabel('Epochs')\n",
        "ax1.set_ylabel('Loss')\n",
        "ax1.legend()\n",
        "ax2.plot(epochs,acc_values,'co', label='Training accuracy')\n",
        "ax2.plot(epochs,val_acc_values,'m',label='Validation accuracy')\n",
        "ax2.set_title('Training and validation accuracy')\n",
        "ax2.set_xlabel('Epochs')\n",
        "ax2.set_ylabel('Accuracy')\n",
        "ax2.legend()\n",
        "plt.show()"
      ],
      "id": "rsYPVPXukKT1"
    },
    {
      "cell_type": "code",
      "execution_count": null,
      "metadata": {
        "id": "eefee406"
      },
      "outputs": [],
      "source": [
        "train_score = model.evaluate(x_train, y_train, batch_size=32)\n",
        "test_score = model.evaluate(x_test, y_test, batch_size=32)\n",
        "\n",
        "print(train_score)\n",
        "print(test_score)"
      ],
      "id": "eefee406"
    },
    {
      "cell_type": "code",
      "execution_count": null,
      "metadata": {
        "id": "cqF3PIMQLZNQ"
      },
      "outputs": [],
      "source": [
        "from tensorflow.math import confusion_matrix\n",
        "y_predict = model.predict(x_test)\n",
        "conf_mat = confusion_matrix(np.argmax(y_test,axis=1) , \n",
        "                           np.argmax(y_predict,axis=1))"
      ],
      "id": "cqF3PIMQLZNQ"
    },
    {
      "cell_type": "code",
      "execution_count": null,
      "metadata": {
        "id": "ZNOizZmGLcJF"
      },
      "outputs": [],
      "source": [
        "import pandas as pd\n",
        "import seaborn as sn"
      ],
      "id": "ZNOizZmGLcJF"
    },
    {
      "cell_type": "code",
      "execution_count": null,
      "metadata": {
        "id": "oeJbDeaILfhI"
      },
      "outputs": [],
      "source": [
        "classes = label_encoder.classes_\n",
        "df_cm = pd.DataFrame(np.array(conf_mat), index = [i for i in classes],\n",
        "                  columns = [i for i in classes])\n",
        "plt.figure(figsize = (13,7))\n",
        "ax = sn.heatmap(df_cm, annot=True)\n",
        "plt.title(\"Confusion Matrix\", fontsize=20)\n",
        "plt.ylabel(\"True Class\"     , fontsize=20)\n",
        "plt.xlabel(\"Predicted Class\", fontsize=20)\n",
        "plt.show()"
      ],
      "id": "oeJbDeaILfhI"
    },
    {
      "cell_type": "code",
      "execution_count": null,
      "metadata": {
        "id": "xu3_vi2_riip"
      },
      "outputs": [],
      "source": [],
      "id": "xu3_vi2_riip"
    },
    {
      "cell_type": "code",
      "execution_count": null,
      "metadata": {
        "id": "f5o9JB7sK420"
      },
      "outputs": [],
      "source": [
        "from pandas import read_csv\n",
        "with open(filename, 'r') as f:\n",
        "    tmp = read_csv(f)"
      ],
      "id": "f5o9JB7sK420"
    },
    {
      "cell_type": "code",
      "execution_count": null,
      "metadata": {
        "id": "GDbqQwDyLTu3"
      },
      "outputs": [],
      "source": [
        "import matplotlib.pyplot as plt\n",
        "\n",
        "def plotHistory(history_dict):\n",
        "    loss_values = history_dict['loss']\n",
        "    acc_values = history_dict['accuracy']\n",
        "    val_loss_values = history_dict['val_loss']\n",
        "    val_acc_values=history_dict['val_accuracy']\n",
        "\n",
        "    epochs=range(1,len(loss_values) + 1)\n",
        "    fig,(ax1,ax2)=plt.subplots(1,2,figsize=(15,5))\n",
        "    ax1.plot(epochs,loss_values,'co',label='Training Loss')\n",
        "    ax1.plot(epochs,val_loss_values,'m', label='Validation Loss')\n",
        "    ax1.set_title('Training and validation loss')\n",
        "    ax1.set_xlabel('Epochs')\n",
        "    ax1.set_ylabel('Loss')\n",
        "    ax1.legend()\n",
        "    ax2.plot(epochs,acc_values,'co', label='Training accuracy')\n",
        "    ax2.plot(epochs,val_acc_values,'m',label='Validation accuracy')\n",
        "    ax2.set_title('Training and validation accuracy')\n",
        "    ax2.set_xlabel('Epochs')\n",
        "    ax2.set_ylabel('Accuracy')\n",
        "    ax2.legend()\n",
        "    plt.show()\n",
        "    plt.close()"
      ],
      "id": "GDbqQwDyLTu3"
    },
    {
      "cell_type": "code",
      "execution_count": null,
      "metadata": {
        "id": "rgqZGN8jLtZ2"
      },
      "outputs": [],
      "source": [
        "plotHistory(tmp)"
      ],
      "id": "rgqZGN8jLtZ2"
    },
    {
      "cell_type": "code",
      "execution_count": null,
      "metadata": {
        "id": "qK-gyITkQzdN"
      },
      "outputs": [],
      "source": [
        "def predict(audio):\n",
        "    prob=model.predict(audio)\n",
        "    index=np.argmax(prob[0])\n",
        "    return classes[index]"
      ],
      "id": "qK-gyITkQzdN"
    },
    {
      "cell_type": "code",
      "execution_count": null,
      "metadata": {
        "id": "7UO2udI_Q7W_"
      },
      "outputs": [],
      "source": [
        "path_to_file = pathlib.Path(\"/content/drive/MyDrive/ASR/ASR_Project-main/TrainedDataSet/samples/ergasia2.wav\")\n",
        "signal, _ = load(path_to_file, sr=SAMPLE_RATE)  # Loading audio file"
      ],
      "id": "7UO2udI_Q7W_"
    },
    {
      "cell_type": "code",
      "execution_count": null,
      "metadata": {
        "id": "5pm3yZmvSk8z"
      },
      "outputs": [],
      "source": [
        "from librosa.effects import preemphasis, trim\n",
        "from librosa.feature import zero_crossing_rate\n",
        "from noisereduce import reduce_noise\n",
        "from scipy.signal import get_window, convolve\n",
        "\n",
        "from librosa.display import specshow, waveshow\n",
        "from librosa import frames_to_time, frames_to_samples, time_to_samples, amplitude_to_db\n",
        "from librosa.effects import trim, split\n",
        "from librosa.feature import mfcc\n",
        "from librosa.onset import onset_detect\n",
        "from librosa.sequence import dtw"
      ],
      "id": "5pm3yZmvSk8z"
    },
    {
      "cell_type": "code",
      "execution_count": null,
      "metadata": {
        "id": "t6GvjOB2S8Ut"
      },
      "outputs": [],
      "source": [
        "def signalFiltering(signal_sample):\n",
        "    # Pre emphasized\n",
        "    pre_emphasized_signal = preemphasis(signal_sample)\n",
        "\n",
        "    # Reducing noise\n",
        "    reduced_noise_signal = reduce_noise(pre_emphasized_signal, sr=SAMPLE_RATE)\n",
        "\n",
        "    # Removing parts where the audio is less than 40db.\n",
        "    filtered_signal, _ = trim(reduced_noise_signal, 40)\n",
        "\n",
        "    return filtered_signal"
      ],
      "id": "t6GvjOB2S8Ut"
    },
    {
      "cell_type": "code",
      "execution_count": null,
      "metadata": {
        "id": "Q6J705mEbkc-"
      },
      "outputs": [],
      "source": [
        "filtered_signal = signalFiltering(signal)"
      ],
      "id": "Q6J705mEbkc-"
    },
    {
      "cell_type": "code",
      "execution_count": null,
      "metadata": {
        "id": "JjhoxGlf-PZI"
      },
      "outputs": [],
      "source": [
        "WINDOWS_LENGTH = 0.09"
      ],
      "id": "JjhoxGlf-PZI"
    },
    {
      "cell_type": "code",
      "execution_count": null,
      "metadata": {
        "id": "nWwQOhKkTTO8"
      },
      "outputs": [],
      "source": [
        "def digitSegmentation(filtered_signal):\n",
        "    # Reversing filtered_signal\n",
        "    reversed_filtered_signal = filtered_signal[::-1]\n",
        "\n",
        "    detected_frames = onset_detect(filtered_signal, sr=SAMPLE_RATE, hop_length=HOP_LENGTH)\n",
        "    frames_time = frames_to_time(detected_frames, sr=SAMPLE_RATE, hop_length=HOP_LENGTH)\n",
        "    frames_samples = frames_to_samples(detected_frames, hop_length=HOP_LENGTH)\n",
        "\n",
        "    reversed_detected_frames = onset_detect(reversed_filtered_signal, sr=SAMPLE_RATE, hop_length=HOP_LENGTH)\n",
        "    reversed_frames_time = frames_to_time(reversed_detected_frames, sr=SAMPLE_RATE, hop_length=HOP_LENGTH)\n",
        "\n",
        "    for i in range(len(reversed_frames_time)):\n",
        "        reversed_frames_time[i] = WINDOWS_LENGTH - reversed_frames_time[i]\n",
        "\n",
        "    # Sorting array\n",
        "    reversed_frames_time = sorted(reversed_frames_time)\n",
        "\n",
        "    # Removing silent parts to split sounds.\n",
        "    i = 0\n",
        "    while i < len(reversed_frames_time) - 1:\n",
        "        if reversed_frames_time[i + 1] - reversed_frames_time[i] < 1:\n",
        "            reversed_frames_time = np.delete(reversed_frames_time, i)\n",
        "            i -= 1\n",
        "        i += 1\n",
        "\n",
        "    i = 0\n",
        "    while i < len(frames_time) - 1:\n",
        "        if frames_time[i + 1] - frames_time[i] < 1:\n",
        "            frames_time = np.delete(frames_time, i + 1)\n",
        "            detected_frames = np.delete(detected_frames, i + 1)\n",
        "            frames_samples = np.delete(frames_samples, i + 1)\n",
        "            i = i - 1\n",
        "        i = i + 1\n",
        "\n",
        "    # Merging times\n",
        "    merged_arrays = np.concatenate([frames_time, reversed_frames_time])\n",
        "    merged_frames_times = sorted(merged_arrays)\n",
        "\n",
        "    s = time_to_samples(merged_frames_times, sr=SAMPLE_RATE)\n",
        "    return s"
      ],
      "id": "nWwQOhKkTTO8"
    },
    {
      "cell_type": "code",
      "execution_count": null,
      "metadata": {
        "id": "2i658EecGN-1"
      },
      "outputs": [],
      "source": [
        "def displayTime(startFrame, endFrame):    \n",
        "    print(' start time: ' + str(startFrame/SAMPLE_RATE) + ', end time: ' + str(endFrame/SAMPLE_RATE))"
      ],
      "id": "2i658EecGN-1"
    },
    {
      "cell_type": "code",
      "execution_count": null,
      "metadata": {
        "id": "CrVDTfTCBnvf"
      },
      "outputs": [],
      "source": [
        "def testSplit(filtered_signal):\n",
        "    n_fft = 2048\n",
        "    S = stft(filtered_signal, n_fft=n_fft, hop_length=n_fft//2)\n",
        "    print(S.shape)\n",
        "\n",
        "    # convert to db\n",
        "    D = amplitude_to_db(np.abs(S), ref=np.max)\n",
        "    max_Db = np.max(abs(D))\n",
        "    print(max_Db)\n",
        "\n",
        "    nonMuteSections = split(filtered_signal)\n",
        "\n",
        "    for i in nonMuteSections:\n",
        "      displayTime(i[0], i[1])"
      ],
      "id": "CrVDTfTCBnvf"
    },
    {
      "cell_type": "code",
      "execution_count": null,
      "metadata": {
        "id": "MoaqOu1QLYYy"
      },
      "outputs": [],
      "source": [
        "def concatenceSegments(segments, pad_time=0.300):\n",
        "    return [np.concatenate([segment, np.zeros(int(pad_time * SAMPLE_RATE))] for segment in segments)]"
      ],
      "id": "MoaqOu1QLYYy"
    },
    {
      "cell_type": "code",
      "execution_count": null,
      "metadata": {
        "id": "mYgFS0cYJ65-"
      },
      "outputs": [],
      "source": [
        "def testSplit2(filtered_signal):\n",
        "    # test\n",
        "\n",
        "    onset_frames = onset_detect(filtered_signal, sr=SAMPLE_RATE)\n",
        "    onset_times = frames_to_time(onset_frames, sr=SAMPLE_RATE)\n",
        "    onset_samples = frames_to_samples(onset_frames)\n",
        "\n",
        "    frames_sz = int(0.100 * SAMPLE_RATE)\n",
        "    segments = np.array([filtered_signal[i:i + frames_sz] for i in onset_samples])\n",
        "\n",
        "    concatence_signals = concatenceSegments(segments)\n",
        "    print(concatence_signals)"
      ],
      "id": "mYgFS0cYJ65-"
    },
    {
      "cell_type": "code",
      "execution_count": null,
      "metadata": {
        "id": "AMbfFEoBIKzz"
      },
      "outputs": [],
      "source": [
        "def showSignal(signal):\n",
        "    plt.figure(figsize=(14, 5))\n",
        "    waveshow(signal, sr=SAMPLE_RATE)\n",
        "    plt.grid()\n",
        "    plt.show()\n",
        "    plt.close()"
      ],
      "id": "AMbfFEoBIKzz"
    },
    {
      "cell_type": "code",
      "execution_count": null,
      "metadata": {
        "id": "X713DSD5Ot--"
      },
      "outputs": [],
      "source": [
        "showSignal(filtered_signal)"
      ],
      "id": "X713DSD5Ot--"
    },
    {
      "cell_type": "code",
      "execution_count": null,
      "metadata": {
        "id": "cMhGuol3T6-8"
      },
      "outputs": [],
      "source": [
        "def digitsFounder(signal_data, samples):\n",
        "    samples_length = len(samples)\n",
        "    digits_found_counter = 0\n",
        "    digits_found = []\n",
        "\n",
        "    plt.figure(figsize=(14, 5))\n",
        "\n",
        "    # From 0 to samples_length, skipping 2\n",
        "    for i in range(0, samples_length, 2):\n",
        "        if samples_length % 2 == 1 and i == samples_length - 1:\n",
        "            digit = signal_data[samples[i - 1]:samples[i]]\n",
        "        else:\n",
        "            digit = signal_data[samples[i]:samples[i + 1]]\n",
        "\n",
        "        showSignal(digit)\n",
        "        spectrogram = stft(digit)\n",
        "        spectrogram_mag, _ = magphase(spectrogram)\n",
        "\n",
        "        mel_spectrogram = melspectrogram(S=spectrogram_mag, sr=SAMPLE_RATE)\n",
        "        mel_spectrogram = amplitude_to_db(mel_spectrogram, ref=np.min)\n",
        "        \n",
        "        # specshow(mel_spectrogram)\n",
        "        # plt.colorbar(format='%+2.0f dB')\n",
        "        # plt.show()\n",
        "\n",
        "        mel_spectrogram = mel_spectrogram[:,:32]\n",
        "        digits_found.append(mel_spectrogram)\n",
        "        digits_found_counter += 1\n",
        "\n",
        "    print(\"Digits found: {}\".format(digits_found_counter))\n",
        "\n",
        "    return digits_found"
      ],
      "id": "cMhGuol3T6-8"
    },
    {
      "cell_type": "code",
      "execution_count": null,
      "metadata": {
        "id": "3qScs9ZPbxwG"
      },
      "outputs": [],
      "source": [
        "testSplit(filtered_signal)"
      ],
      "id": "3qScs9ZPbxwG"
    },
    {
      "cell_type": "code",
      "execution_count": null,
      "metadata": {
        "id": "-ULLlcLVUDaj"
      },
      "outputs": [],
      "source": [
        "# Segmentation and signal digit array calculation\n",
        "_samples = digitSegmentation(filtered_signal)  # Segmenting audio file\n",
        "digits_found = digitsFounder(filtered_signal, _samples)  # Finding digits signals from segmentation"
      ],
      "id": "-ULLlcLVUDaj"
    },
    {
      "cell_type": "code",
      "execution_count": null,
      "metadata": {
        "id": "FI6HZqJE4IDp"
      },
      "outputs": [],
      "source": [
        "digits_found = np.array(digits_found)"
      ],
      "id": "FI6HZqJE4IDp"
    },
    {
      "cell_type": "code",
      "execution_count": null,
      "metadata": {
        "id": "9s3H4tf24CZK"
      },
      "outputs": [],
      "source": [
        "print(digits_found.shape)"
      ],
      "id": "9s3H4tf24CZK"
    },
    {
      "cell_type": "code",
      "execution_count": null,
      "metadata": {
        "id": "lMXdNBrz4OZb"
      },
      "outputs": [],
      "source": [
        "for digit in digits_found:\n",
        "  digit = np.array([digit])\n",
        "  print(predict(digit))"
      ],
      "id": "lMXdNBrz4OZb"
    },
    {
      "cell_type": "code",
      "execution_count": null,
      "metadata": {
        "id": "RRU0cD_XUbg_"
      },
      "outputs": [],
      "source": [
        "from random import seed, randint"
      ],
      "id": "RRU0cD_XUbg_"
    },
    {
      "cell_type": "code",
      "execution_count": null,
      "metadata": {
        "id": "EKibpa-5SZ7r"
      },
      "outputs": [],
      "source": [
        "labels = ['three', 'five', 'seven', 'nine', 'zero', 'two', 'four', 'six', 'eight', 'one']\n",
        "digits, mel_digits = [], []\n",
        "audio_path = \"/content/drive/MyDrive/Speech-Rec-Data/audio/{}\"\n",
        "for label in labels:\n",
        "    label_path = audio_path.format(label)\n",
        "    label_path = pathlib.Path(label_path)\n",
        "\n",
        "    label_list = listdir(label_path)\n",
        "    label_list_length = len(label_list)\n",
        "\n",
        "    while True:\n",
        "        seed(time())\n",
        "        index = randint(0, label_list_length)\n",
        "        digit_wav = label_list[index]\n",
        "        digit_wav_path = pathlib.Path(join(str(label_path), digit_wav))\n",
        "        digit, _ = load(digit_wav_path, sr=SAMPLE_RATE)\n",
        "\n",
        "        if len(digit) == SAMPLE_RATE:\n",
        "            mel_signal = showMelSpectrogram(digit)\n",
        "\n",
        "            digits.append(digit)\n",
        "            mel_digits.append(mel_signal)\n",
        "            break"
      ],
      "id": "EKibpa-5SZ7r"
    },
    {
      "cell_type": "code",
      "execution_count": null,
      "metadata": {
        "id": "JuwmWWycYKM1"
      },
      "outputs": [],
      "source": [
        "for digit in digits:\n",
        "    showSignal(digit)"
      ],
      "id": "JuwmWWycYKM1"
    },
    {
      "cell_type": "code",
      "execution_count": null,
      "metadata": {
        "id": "hK3GUiULZXQ4"
      },
      "outputs": [],
      "source": [
        "for mel_digit in mel_digits:\n",
        "    specshow(mel_spectrogram)\n",
        "    plt.colorbar(format='%+2.0f dB')\n",
        "    plt.show()"
      ],
      "id": "hK3GUiULZXQ4"
    },
    {
      "cell_type": "code",
      "execution_count": null,
      "metadata": {
        "id": "kXX4D8arWoel"
      },
      "outputs": [],
      "source": [
        "for mel_digit in mel_digits:\n",
        "    mel_digit = np.array([mel_digit])\n",
        "    print(predict(mel_digit))"
      ],
      "id": "kXX4D8arWoel"
    },
    {
      "cell_type": "code",
      "execution_count": null,
      "metadata": {
        "id": "ysSCBy-P92Vt"
      },
      "outputs": [],
      "source": [],
      "id": "ysSCBy-P92Vt"
    }
  ],
  "metadata": {
    "accelerator": "GPU",
    "colab": {
      "machine_shape": "hm",
      "provenance": [],
      "gpuType": "A100",
      "private_outputs": true,
      "include_colab_link": true
    },
    "kernelspec": {
      "display_name": "Python 3",
      "name": "python3"
    },
    "language_info": {
      "codemirror_mode": {
        "name": "ipython",
        "version": 3
      },
      "file_extension": ".py",
      "mimetype": "text/x-python",
      "name": "python",
      "nbconvert_exporter": "python",
      "pygments_lexer": "ipython3",
      "version": "3.9.12"
    }
  },
  "nbformat": 4,
  "nbformat_minor": 5
}